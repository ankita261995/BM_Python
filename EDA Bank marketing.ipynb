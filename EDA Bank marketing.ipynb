{
 "cells": [
  {
   "cell_type": "code",
   "execution_count": 1,
   "id": "564371ff",
   "metadata": {},
   "outputs": [],
   "source": [
    "import numpy as np\n",
    "import pandas as pd\n",
    "import matplotlib.pyplot as plt \n",
    "%matplotlib inline\n",
    "import seaborn as sns"
   ]
  },
  {
   "cell_type": "code",
   "execution_count": 2,
   "id": "1fca9c30",
   "metadata": {},
   "outputs": [],
   "source": [
    "df=pd.read_csv('Bank csv.csv',encoding= 'unicode_escape')"
   ]
  },
  {
   "cell_type": "code",
   "execution_count": 3,
   "id": "b1fa33c8",
   "metadata": {},
   "outputs": [
    {
     "data": {
      "text/plain": [
       "(45616, 16)"
      ]
     },
     "execution_count": 3,
     "metadata": {},
     "output_type": "execute_result"
    }
   ],
   "source": [
    "df.shape"
   ]
  },
  {
   "cell_type": "code",
   "execution_count": 4,
   "id": "9da0af2f",
   "metadata": {},
   "outputs": [
    {
     "data": {
      "text/html": [
       "<div>\n",
       "<style scoped>\n",
       "    .dataframe tbody tr th:only-of-type {\n",
       "        vertical-align: middle;\n",
       "    }\n",
       "\n",
       "    .dataframe tbody tr th {\n",
       "        vertical-align: top;\n",
       "    }\n",
       "\n",
       "    .dataframe thead th {\n",
       "        text-align: right;\n",
       "    }\n",
       "</style>\n",
       "<table border=\"1\" class=\"dataframe\">\n",
       "  <thead>\n",
       "    <tr style=\"text-align: right;\">\n",
       "      <th></th>\n",
       "      <th>Account no</th>\n",
       "      <th>Age</th>\n",
       "      <th>Job</th>\n",
       "      <th>Marital Status</th>\n",
       "      <th>Loan Default</th>\n",
       "      <th>Housing Loan</th>\n",
       "      <th>Personal Loan</th>\n",
       "      <th>Education</th>\n",
       "      <th>Cash Balance</th>\n",
       "      <th>Contact</th>\n",
       "      <th>pdays</th>\n",
       "      <th>previous</th>\n",
       "      <th>poutcome</th>\n",
       "      <th>Subscription</th>\n",
       "      <th>Date</th>\n",
       "      <th>Call Duration</th>\n",
       "    </tr>\n",
       "  </thead>\n",
       "  <tbody>\n",
       "    <tr>\n",
       "      <th>0</th>\n",
       "      <td>39038245</td>\n",
       "      <td>-58</td>\n",
       "      <td>management</td>\n",
       "      <td>married</td>\n",
       "      <td>no</td>\n",
       "      <td>yes</td>\n",
       "      <td>no</td>\n",
       "      <td>Doctorate</td>\n",
       "      <td>107150</td>\n",
       "      <td>unknown</td>\n",
       "      <td>-1</td>\n",
       "      <td>0</td>\n",
       "      <td>unknown</td>\n",
       "      <td>no</td>\n",
       "      <td>05-May-17</td>\n",
       "      <td>261</td>\n",
       "    </tr>\n",
       "    <tr>\n",
       "      <th>1</th>\n",
       "      <td>48141635</td>\n",
       "      <td>44</td>\n",
       "      <td>technician</td>\n",
       "      <td>single</td>\n",
       "      <td>no</td>\n",
       "      <td>yes</td>\n",
       "      <td>no</td>\n",
       "      <td>masters</td>\n",
       "      <td>1450</td>\n",
       "      <td>unknown</td>\n",
       "      <td>-1</td>\n",
       "      <td>0</td>\n",
       "      <td>unknown</td>\n",
       "      <td>no</td>\n",
       "      <td>05-May-17</td>\n",
       "      <td>151</td>\n",
       "    </tr>\n",
       "    <tr>\n",
       "      <th>2</th>\n",
       "      <td>60737785</td>\n",
       "      <td>-33</td>\n",
       "      <td>entrepreneur</td>\n",
       "      <td>married</td>\n",
       "      <td>no</td>\n",
       "      <td>yes</td>\n",
       "      <td>yes</td>\n",
       "      <td>masters</td>\n",
       "      <td>100</td>\n",
       "      <td>unknown</td>\n",
       "      <td>-1</td>\n",
       "      <td>0</td>\n",
       "      <td>unknown</td>\n",
       "      <td>no</td>\n",
       "      <td>05-May-17</td>\n",
       "      <td>76</td>\n",
       "    </tr>\n",
       "    <tr>\n",
       "      <th>3</th>\n",
       "      <td>22943703</td>\n",
       "      <td>47</td>\n",
       "      <td>blue-collar</td>\n",
       "      <td>married</td>\n",
       "      <td>no</td>\n",
       "      <td>yes</td>\n",
       "      <td>no</td>\n",
       "      <td>unknown</td>\n",
       "      <td>75300</td>\n",
       "      <td>unknown</td>\n",
       "      <td>-1</td>\n",
       "      <td>0</td>\n",
       "      <td>unknown</td>\n",
       "      <td>no</td>\n",
       "      <td>05-May-17</td>\n",
       "      <td>92</td>\n",
       "    </tr>\n",
       "    <tr>\n",
       "      <th>4</th>\n",
       "      <td>73077656</td>\n",
       "      <td>-33</td>\n",
       "      <td>unknown</td>\n",
       "      <td>single</td>\n",
       "      <td>no</td>\n",
       "      <td>no</td>\n",
       "      <td>no</td>\n",
       "      <td>unknown</td>\n",
       "      <td>50</td>\n",
       "      <td>unknown</td>\n",
       "      <td>-1</td>\n",
       "      <td>0</td>\n",
       "      <td>unknown</td>\n",
       "      <td>no</td>\n",
       "      <td>05-May-17</td>\n",
       "      <td>198</td>\n",
       "    </tr>\n",
       "    <tr>\n",
       "      <th>5</th>\n",
       "      <td>27520757</td>\n",
       "      <td>35</td>\n",
       "      <td>management</td>\n",
       "      <td>married</td>\n",
       "      <td>no</td>\n",
       "      <td>yes</td>\n",
       "      <td>no</td>\n",
       "      <td>Doctorate</td>\n",
       "      <td>11550</td>\n",
       "      <td>unknown</td>\n",
       "      <td>-1</td>\n",
       "      <td>0</td>\n",
       "      <td>unknown</td>\n",
       "      <td>no</td>\n",
       "      <td>05-May-17</td>\n",
       "      <td>139</td>\n",
       "    </tr>\n",
       "    <tr>\n",
       "      <th>6</th>\n",
       "      <td>42792069</td>\n",
       "      <td>28</td>\n",
       "      <td>management</td>\n",
       "      <td>single</td>\n",
       "      <td>no</td>\n",
       "      <td>yes</td>\n",
       "      <td>yes</td>\n",
       "      <td>Doctorate</td>\n",
       "      <td>22350</td>\n",
       "      <td>unknown</td>\n",
       "      <td>-1</td>\n",
       "      <td>0</td>\n",
       "      <td>unknown</td>\n",
       "      <td>no</td>\n",
       "      <td>05-May-17</td>\n",
       "      <td>217</td>\n",
       "    </tr>\n",
       "    <tr>\n",
       "      <th>7</th>\n",
       "      <td>19618968</td>\n",
       "      <td>42</td>\n",
       "      <td>entrepreneur</td>\n",
       "      <td>divorced</td>\n",
       "      <td>yes</td>\n",
       "      <td>yes</td>\n",
       "      <td>no</td>\n",
       "      <td>Doctorate</td>\n",
       "      <td>100</td>\n",
       "      <td>unknown</td>\n",
       "      <td>-1</td>\n",
       "      <td>0</td>\n",
       "      <td>unknown</td>\n",
       "      <td>no</td>\n",
       "      <td>05-May-17</td>\n",
       "      <td>380</td>\n",
       "    </tr>\n",
       "    <tr>\n",
       "      <th>8</th>\n",
       "      <td>11169403</td>\n",
       "      <td>-58</td>\n",
       "      <td>retired</td>\n",
       "      <td>married</td>\n",
       "      <td>no</td>\n",
       "      <td>yes</td>\n",
       "      <td>no</td>\n",
       "      <td>bachelors</td>\n",
       "      <td>6050</td>\n",
       "      <td>unknown</td>\n",
       "      <td>-1</td>\n",
       "      <td>0</td>\n",
       "      <td>unknown</td>\n",
       "      <td>no</td>\n",
       "      <td>05-May-17</td>\n",
       "      <td>50</td>\n",
       "    </tr>\n",
       "    <tr>\n",
       "      <th>9</th>\n",
       "      <td>26253083</td>\n",
       "      <td>43</td>\n",
       "      <td>technician</td>\n",
       "      <td>single</td>\n",
       "      <td>no</td>\n",
       "      <td>yes</td>\n",
       "      <td>no</td>\n",
       "      <td>masters</td>\n",
       "      <td>29650</td>\n",
       "      <td>unknown</td>\n",
       "      <td>-1</td>\n",
       "      <td>0</td>\n",
       "      <td>unknown</td>\n",
       "      <td>no</td>\n",
       "      <td>05-May-17</td>\n",
       "      <td>55</td>\n",
       "    </tr>\n",
       "  </tbody>\n",
       "</table>\n",
       "</div>"
      ],
      "text/plain": [
       "   Account no  Age           Job Marital Status Loan Default Housing Loan  \\\n",
       "0    39038245  -58    management        married           no          yes   \n",
       "1    48141635   44    technician         single           no          yes   \n",
       "2    60737785  -33  entrepreneur        married           no          yes   \n",
       "3    22943703   47   blue-collar        married           no          yes   \n",
       "4    73077656  -33       unknown         single           no           no   \n",
       "5    27520757   35    management        married           no          yes   \n",
       "6    42792069   28    management         single           no          yes   \n",
       "7    19618968   42  entrepreneur       divorced          yes          yes   \n",
       "8    11169403  -58       retired        married           no          yes   \n",
       "9    26253083   43    technician         single           no          yes   \n",
       "\n",
       "  Personal Loan  Education  Cash Balance  Contact  pdays  previous poutcome  \\\n",
       "0            no  Doctorate        107150  unknown     -1         0  unknown   \n",
       "1            no    masters          1450  unknown     -1         0  unknown   \n",
       "2           yes    masters           100  unknown     -1         0  unknown   \n",
       "3            no    unknown         75300  unknown     -1         0  unknown   \n",
       "4            no    unknown            50  unknown     -1         0  unknown   \n",
       "5            no  Doctorate         11550  unknown     -1         0  unknown   \n",
       "6           yes  Doctorate         22350  unknown     -1         0  unknown   \n",
       "7            no  Doctorate           100  unknown     -1         0  unknown   \n",
       "8            no  bachelors          6050  unknown     -1         0  unknown   \n",
       "9            no    masters         29650  unknown     -1         0  unknown   \n",
       "\n",
       "  Subscription       Date  Call Duration  \n",
       "0           no  05-May-17            261  \n",
       "1           no  05-May-17            151  \n",
       "2           no  05-May-17             76  \n",
       "3           no  05-May-17             92  \n",
       "4           no  05-May-17            198  \n",
       "5           no  05-May-17            139  \n",
       "6           no  05-May-17            217  \n",
       "7           no  05-May-17            380  \n",
       "8           no  05-May-17             50  \n",
       "9           no  05-May-17             55  "
      ]
     },
     "execution_count": 4,
     "metadata": {},
     "output_type": "execute_result"
    }
   ],
   "source": [
    "df.head(10)\n"
   ]
  },
  {
   "cell_type": "code",
   "execution_count": 5,
   "id": "5116e930",
   "metadata": {},
   "outputs": [],
   "source": [
    "df = df.drop_duplicates()"
   ]
  },
  {
   "cell_type": "code",
   "execution_count": 6,
   "id": "35ddd091",
   "metadata": {},
   "outputs": [
    {
     "data": {
      "text/plain": [
       "(45200, 16)"
      ]
     },
     "execution_count": 6,
     "metadata": {},
     "output_type": "execute_result"
    }
   ],
   "source": [
    "df.shape"
   ]
  },
  {
   "cell_type": "code",
   "execution_count": 7,
   "id": "d2a4bdfd",
   "metadata": {},
   "outputs": [],
   "source": [
    "df.drop(['Account no'],axis=1,inplace=True)"
   ]
  },
  {
   "cell_type": "code",
   "execution_count": 8,
   "id": "0ce177d7",
   "metadata": {},
   "outputs": [
    {
     "data": {
      "text/plain": [
       "(45200, 15)"
      ]
     },
     "execution_count": 8,
     "metadata": {},
     "output_type": "execute_result"
    }
   ],
   "source": [
    "df.shape"
   ]
  },
  {
   "cell_type": "code",
   "execution_count": 9,
   "id": "423d779a",
   "metadata": {},
   "outputs": [
    {
     "name": "stdout",
     "output_type": "stream",
     "text": [
      "<class 'pandas.core.frame.DataFrame'>\n",
      "Index: 45200 entries, 0 to 45199\n",
      "Data columns (total 15 columns):\n",
      " #   Column          Non-Null Count  Dtype \n",
      "---  ------          --------------  ----- \n",
      " 0   Age             45200 non-null  int64 \n",
      " 1   Job             45200 non-null  object\n",
      " 2   Marital Status  45200 non-null  object\n",
      " 3   Loan Default    45146 non-null  object\n",
      " 4   Housing Loan    45200 non-null  object\n",
      " 5   Personal Loan   45200 non-null  object\n",
      " 6   Education       45200 non-null  object\n",
      " 7   Cash Balance    45200 non-null  int64 \n",
      " 8   Contact         45200 non-null  object\n",
      " 9   pdays           45200 non-null  int64 \n",
      " 10  previous        45200 non-null  int64 \n",
      " 11  poutcome        45129 non-null  object\n",
      " 12  Subscription    44734 non-null  object\n",
      " 13  Date            45200 non-null  object\n",
      " 14  Call Duration   45200 non-null  int64 \n",
      "dtypes: int64(5), object(10)\n",
      "memory usage: 5.5+ MB\n"
     ]
    }
   ],
   "source": [
    "df.info()"
   ]
  },
  {
   "cell_type": "code",
   "execution_count": 10,
   "id": "cec5702c",
   "metadata": {},
   "outputs": [
    {
     "data": {
      "text/plain": [
       "dtype('int64')"
      ]
     },
     "execution_count": 10,
     "metadata": {},
     "output_type": "execute_result"
    }
   ],
   "source": [
    "df.dtypes['Age']"
   ]
  },
  {
   "cell_type": "code",
   "execution_count": 11,
   "id": "e52f6070",
   "metadata": {},
   "outputs": [],
   "source": [
    "df['Age'] = df['Age'].abs()"
   ]
  },
  {
   "cell_type": "code",
   "execution_count": 12,
   "id": "163953c5",
   "metadata": {},
   "outputs": [
    {
     "data": {
      "text/plain": [
       "Age                 0\n",
       "Job                 0\n",
       "Marital Status      0\n",
       "Loan Default       54\n",
       "Housing Loan        0\n",
       "Personal Loan       0\n",
       "Education           0\n",
       "Cash Balance        0\n",
       "Contact             0\n",
       "pdays               0\n",
       "previous            0\n",
       "poutcome           71\n",
       "Subscription      466\n",
       "Date                0\n",
       "Call Duration       0\n",
       "dtype: int64"
      ]
     },
     "execution_count": 12,
     "metadata": {},
     "output_type": "execute_result"
    }
   ],
   "source": [
    "#count all the blank cells in the entire data set\n",
    "df.isna().sum()"
   ]
  },
  {
   "cell_type": "code",
   "execution_count": 13,
   "id": "01045178",
   "metadata": {},
   "outputs": [
    {
     "data": {
      "text/plain": [
       "591"
      ]
     },
     "execution_count": 13,
     "metadata": {},
     "output_type": "execute_result"
    }
   ],
   "source": [
    "df.isnull().sum().sum()"
   ]
  },
  {
   "cell_type": "code",
   "execution_count": 14,
   "id": "1ce5b938",
   "metadata": {},
   "outputs": [
    {
     "data": {
      "text/plain": [
       "Age                 0\n",
       "Job                 0\n",
       "Marital Status      0\n",
       "Loan Default       54\n",
       "Housing Loan        0\n",
       "Personal Loan       0\n",
       "Education           0\n",
       "Cash Balance        0\n",
       "Contact             0\n",
       "pdays               0\n",
       "previous            0\n",
       "poutcome           71\n",
       "Subscription      466\n",
       "Date                0\n",
       "Call Duration       0\n",
       "dtype: int64"
      ]
     },
     "execution_count": 14,
     "metadata": {},
     "output_type": "execute_result"
    }
   ],
   "source": [
    "pd.isna(df).sum()"
   ]
  },
  {
   "cell_type": "code",
   "execution_count": 15,
   "id": "81f3ece1",
   "metadata": {},
   "outputs": [
    {
     "data": {
      "text/plain": [
       "(45200, 15)"
      ]
     },
     "execution_count": 15,
     "metadata": {},
     "output_type": "execute_result"
    }
   ],
   "source": [
    "df.shape"
   ]
  },
  {
   "cell_type": "code",
   "execution_count": 16,
   "id": "2fd9c772",
   "metadata": {},
   "outputs": [],
   "source": [
    "df.dropna(inplace=True)"
   ]
  },
  {
   "cell_type": "code",
   "execution_count": 17,
   "id": "d78548cd",
   "metadata": {},
   "outputs": [
    {
     "data": {
      "text/plain": [
       "(44610, 15)"
      ]
     },
     "execution_count": 17,
     "metadata": {},
     "output_type": "execute_result"
    }
   ],
   "source": [
    "df.shape"
   ]
  },
  {
   "cell_type": "code",
   "execution_count": 18,
   "id": "dfb98b5c",
   "metadata": {},
   "outputs": [],
   "source": [
    "df['Job'] = df['Job'].replace('admin.','admin')"
   ]
  },
  {
   "cell_type": "code",
   "execution_count": 19,
   "id": "7bf213a0",
   "metadata": {},
   "outputs": [
    {
     "data": {
      "text/html": [
       "<div>\n",
       "<style scoped>\n",
       "    .dataframe tbody tr th:only-of-type {\n",
       "        vertical-align: middle;\n",
       "    }\n",
       "\n",
       "    .dataframe tbody tr th {\n",
       "        vertical-align: top;\n",
       "    }\n",
       "\n",
       "    .dataframe thead th {\n",
       "        text-align: right;\n",
       "    }\n",
       "</style>\n",
       "<table border=\"1\" class=\"dataframe\">\n",
       "  <thead>\n",
       "    <tr style=\"text-align: right;\">\n",
       "      <th></th>\n",
       "      <th>Age</th>\n",
       "      <th>Job</th>\n",
       "      <th>Marital Status</th>\n",
       "      <th>Loan Default</th>\n",
       "      <th>Housing Loan</th>\n",
       "      <th>Personal Loan</th>\n",
       "      <th>Education</th>\n",
       "      <th>Cash Balance</th>\n",
       "      <th>Contact</th>\n",
       "      <th>pdays</th>\n",
       "      <th>previous</th>\n",
       "      <th>poutcome</th>\n",
       "      <th>Subscription</th>\n",
       "      <th>Date</th>\n",
       "      <th>Call Duration</th>\n",
       "    </tr>\n",
       "  </thead>\n",
       "  <tbody>\n",
       "  </tbody>\n",
       "</table>\n",
       "</div>"
      ],
      "text/plain": [
       "Empty DataFrame\n",
       "Columns: [Age, Job, Marital Status, Loan Default, Housing Loan, Personal Loan, Education, Cash Balance, Contact, pdays, previous, poutcome, Subscription, Date, Call Duration]\n",
       "Index: []"
      ]
     },
     "execution_count": 19,
     "metadata": {},
     "output_type": "execute_result"
    }
   ],
   "source": [
    "df.head(0)"
   ]
  },
  {
   "cell_type": "code",
   "execution_count": 20,
   "id": "63182e5e",
   "metadata": {},
   "outputs": [],
   "source": [
    "df['Loan Default'] = df['Loan Default'].replace('no','0')"
   ]
  },
  {
   "cell_type": "code",
   "execution_count": 21,
   "id": "6409a42c",
   "metadata": {},
   "outputs": [],
   "source": [
    "df['Loan Default'] = df['Loan Default'].replace('yes','1') "
   ]
  },
  {
   "cell_type": "code",
   "execution_count": 22,
   "id": "0d1dc680",
   "metadata": {},
   "outputs": [],
   "source": [
    "df['Housing Loan'] = df['Housing Loan'].replace('no','0') "
   ]
  },
  {
   "cell_type": "code",
   "execution_count": 23,
   "id": "1740f833",
   "metadata": {},
   "outputs": [],
   "source": [
    "df['Housing Loan'] = df['Housing Loan'].replace('yes','1') "
   ]
  },
  {
   "cell_type": "code",
   "execution_count": 24,
   "id": "f4a8815f",
   "metadata": {},
   "outputs": [],
   "source": [
    "df['Personal Loan'] = df['Personal Loan'].replace('no','0') "
   ]
  },
  {
   "cell_type": "code",
   "execution_count": 25,
   "id": "72a69b66",
   "metadata": {},
   "outputs": [],
   "source": [
    "df['Personal Loan'] = df['Personal Loan'].replace('yes','1') "
   ]
  },
  {
   "cell_type": "code",
   "execution_count": 26,
   "id": "107490e0",
   "metadata": {},
   "outputs": [
    {
     "data": {
      "text/plain": [
       "dtype('O')"
      ]
     },
     "execution_count": 26,
     "metadata": {},
     "output_type": "execute_result"
    }
   ],
   "source": [
    "df.dtypes['Date']"
   ]
  },
  {
   "cell_type": "code",
   "execution_count": 27,
   "id": "222763a2",
   "metadata": {},
   "outputs": [
    {
     "name": "stderr",
     "output_type": "stream",
     "text": [
      "C:\\Users\\Dell\\AppData\\Local\\Temp\\ipykernel_3624\\2394721818.py:1: UserWarning: Could not infer format, so each element will be parsed individually, falling back to `dateutil`. To ensure parsing is consistent and as-expected, please specify a format.\n",
      "  df['Date'] = pd.to_datetime(df['Date'])\n"
     ]
    }
   ],
   "source": [
    "df['Date'] = pd.to_datetime(df['Date'])"
   ]
  },
  {
   "cell_type": "code",
   "execution_count": 28,
   "id": "29d18c65",
   "metadata": {},
   "outputs": [
    {
     "data": {
      "text/html": [
       "<div>\n",
       "<style scoped>\n",
       "    .dataframe tbody tr th:only-of-type {\n",
       "        vertical-align: middle;\n",
       "    }\n",
       "\n",
       "    .dataframe tbody tr th {\n",
       "        vertical-align: top;\n",
       "    }\n",
       "\n",
       "    .dataframe thead th {\n",
       "        text-align: right;\n",
       "    }\n",
       "</style>\n",
       "<table border=\"1\" class=\"dataframe\">\n",
       "  <thead>\n",
       "    <tr style=\"text-align: right;\">\n",
       "      <th></th>\n",
       "      <th>Age</th>\n",
       "      <th>Job</th>\n",
       "      <th>Marital Status</th>\n",
       "      <th>Loan Default</th>\n",
       "      <th>Housing Loan</th>\n",
       "      <th>Personal Loan</th>\n",
       "      <th>Education</th>\n",
       "      <th>Cash Balance</th>\n",
       "      <th>Contact</th>\n",
       "      <th>pdays</th>\n",
       "      <th>previous</th>\n",
       "      <th>poutcome</th>\n",
       "      <th>Subscription</th>\n",
       "      <th>Date</th>\n",
       "      <th>Call Duration</th>\n",
       "    </tr>\n",
       "  </thead>\n",
       "  <tbody>\n",
       "    <tr>\n",
       "      <th>0</th>\n",
       "      <td>58</td>\n",
       "      <td>management</td>\n",
       "      <td>married</td>\n",
       "      <td>0</td>\n",
       "      <td>1</td>\n",
       "      <td>0</td>\n",
       "      <td>Doctorate</td>\n",
       "      <td>107150</td>\n",
       "      <td>unknown</td>\n",
       "      <td>-1</td>\n",
       "      <td>0</td>\n",
       "      <td>unknown</td>\n",
       "      <td>no</td>\n",
       "      <td>2017-05-05</td>\n",
       "      <td>261</td>\n",
       "    </tr>\n",
       "    <tr>\n",
       "      <th>1</th>\n",
       "      <td>44</td>\n",
       "      <td>technician</td>\n",
       "      <td>single</td>\n",
       "      <td>0</td>\n",
       "      <td>1</td>\n",
       "      <td>0</td>\n",
       "      <td>masters</td>\n",
       "      <td>1450</td>\n",
       "      <td>unknown</td>\n",
       "      <td>-1</td>\n",
       "      <td>0</td>\n",
       "      <td>unknown</td>\n",
       "      <td>no</td>\n",
       "      <td>2017-05-05</td>\n",
       "      <td>151</td>\n",
       "    </tr>\n",
       "    <tr>\n",
       "      <th>2</th>\n",
       "      <td>33</td>\n",
       "      <td>entrepreneur</td>\n",
       "      <td>married</td>\n",
       "      <td>0</td>\n",
       "      <td>1</td>\n",
       "      <td>1</td>\n",
       "      <td>masters</td>\n",
       "      <td>100</td>\n",
       "      <td>unknown</td>\n",
       "      <td>-1</td>\n",
       "      <td>0</td>\n",
       "      <td>unknown</td>\n",
       "      <td>no</td>\n",
       "      <td>2017-05-05</td>\n",
       "      <td>76</td>\n",
       "    </tr>\n",
       "    <tr>\n",
       "      <th>3</th>\n",
       "      <td>47</td>\n",
       "      <td>blue-collar</td>\n",
       "      <td>married</td>\n",
       "      <td>0</td>\n",
       "      <td>1</td>\n",
       "      <td>0</td>\n",
       "      <td>unknown</td>\n",
       "      <td>75300</td>\n",
       "      <td>unknown</td>\n",
       "      <td>-1</td>\n",
       "      <td>0</td>\n",
       "      <td>unknown</td>\n",
       "      <td>no</td>\n",
       "      <td>2017-05-05</td>\n",
       "      <td>92</td>\n",
       "    </tr>\n",
       "    <tr>\n",
       "      <th>4</th>\n",
       "      <td>33</td>\n",
       "      <td>unknown</td>\n",
       "      <td>single</td>\n",
       "      <td>0</td>\n",
       "      <td>0</td>\n",
       "      <td>0</td>\n",
       "      <td>unknown</td>\n",
       "      <td>50</td>\n",
       "      <td>unknown</td>\n",
       "      <td>-1</td>\n",
       "      <td>0</td>\n",
       "      <td>unknown</td>\n",
       "      <td>no</td>\n",
       "      <td>2017-05-05</td>\n",
       "      <td>198</td>\n",
       "    </tr>\n",
       "  </tbody>\n",
       "</table>\n",
       "</div>"
      ],
      "text/plain": [
       "   Age           Job Marital Status Loan Default Housing Loan Personal Loan  \\\n",
       "0   58    management        married            0            1             0   \n",
       "1   44    technician         single            0            1             0   \n",
       "2   33  entrepreneur        married            0            1             1   \n",
       "3   47   blue-collar        married            0            1             0   \n",
       "4   33       unknown         single            0            0             0   \n",
       "\n",
       "   Education  Cash Balance  Contact  pdays  previous poutcome Subscription  \\\n",
       "0  Doctorate        107150  unknown     -1         0  unknown           no   \n",
       "1    masters          1450  unknown     -1         0  unknown           no   \n",
       "2    masters           100  unknown     -1         0  unknown           no   \n",
       "3    unknown         75300  unknown     -1         0  unknown           no   \n",
       "4    unknown            50  unknown     -1         0  unknown           no   \n",
       "\n",
       "        Date  Call Duration  \n",
       "0 2017-05-05            261  \n",
       "1 2017-05-05            151  \n",
       "2 2017-05-05             76  \n",
       "3 2017-05-05             92  \n",
       "4 2017-05-05            198  "
      ]
     },
     "execution_count": 28,
     "metadata": {},
     "output_type": "execute_result"
    }
   ],
   "source": [
    "df.head()"
   ]
  },
  {
   "cell_type": "code",
   "execution_count": 29,
   "id": "317e9ef0",
   "metadata": {},
   "outputs": [],
   "source": [
    "df['Subscription'] = df['Subscription'].replace('no','0') "
   ]
  },
  {
   "cell_type": "code",
   "execution_count": 30,
   "id": "3ecf7142",
   "metadata": {},
   "outputs": [],
   "source": [
    "df['Subscription'] = df['Subscription'].replace('yes','1') "
   ]
  },
  {
   "cell_type": "code",
   "execution_count": 31,
   "id": "71da4118",
   "metadata": {},
   "outputs": [],
   "source": [
    "df['Month_name']=df['Date'].dt.month_name(locale='English')\n",
    "#Locale determining the language in which to return the month name.Default is English."
   ]
  },
  {
   "cell_type": "code",
   "execution_count": 32,
   "id": "4b236071",
   "metadata": {},
   "outputs": [],
   "source": [
    "df['Weekday']=df['Date'].dt.isocalendar().day"
   ]
  },
  {
   "cell_type": "code",
   "execution_count": 33,
   "id": "3e68e0d3",
   "metadata": {},
   "outputs": [],
   "source": [
    "df['Weekday']=df['Date'].dt.day"
   ]
  },
  {
   "cell_type": "code",
   "execution_count": 34,
   "id": "c2cd8f1e",
   "metadata": {},
   "outputs": [
    {
     "data": {
      "text/html": [
       "<div>\n",
       "<style scoped>\n",
       "    .dataframe tbody tr th:only-of-type {\n",
       "        vertical-align: middle;\n",
       "    }\n",
       "\n",
       "    .dataframe tbody tr th {\n",
       "        vertical-align: top;\n",
       "    }\n",
       "\n",
       "    .dataframe thead th {\n",
       "        text-align: right;\n",
       "    }\n",
       "</style>\n",
       "<table border=\"1\" class=\"dataframe\">\n",
       "  <thead>\n",
       "    <tr style=\"text-align: right;\">\n",
       "      <th></th>\n",
       "      <th>Age</th>\n",
       "      <th>Job</th>\n",
       "      <th>Marital Status</th>\n",
       "      <th>Loan Default</th>\n",
       "      <th>Housing Loan</th>\n",
       "      <th>Personal Loan</th>\n",
       "      <th>Education</th>\n",
       "      <th>Cash Balance</th>\n",
       "      <th>Contact</th>\n",
       "      <th>pdays</th>\n",
       "      <th>previous</th>\n",
       "      <th>poutcome</th>\n",
       "      <th>Subscription</th>\n",
       "      <th>Date</th>\n",
       "      <th>Call Duration</th>\n",
       "      <th>Month_name</th>\n",
       "      <th>Weekday</th>\n",
       "    </tr>\n",
       "  </thead>\n",
       "  <tbody>\n",
       "  </tbody>\n",
       "</table>\n",
       "</div>"
      ],
      "text/plain": [
       "Empty DataFrame\n",
       "Columns: [Age, Job, Marital Status, Loan Default, Housing Loan, Personal Loan, Education, Cash Balance, Contact, pdays, previous, poutcome, Subscription, Date, Call Duration, Month_name, Weekday]\n",
       "Index: []"
      ]
     },
     "execution_count": 34,
     "metadata": {},
     "output_type": "execute_result"
    }
   ],
   "source": [
    "df.head(0)"
   ]
  },
  {
   "cell_type": "code",
   "execution_count": 35,
   "id": "a0d45025",
   "metadata": {},
   "outputs": [],
   "source": [
    "df['Weekday_name']=df['Date'].dt.day_name()"
   ]
  },
  {
   "cell_type": "code",
   "execution_count": 36,
   "id": "57777633",
   "metadata": {},
   "outputs": [],
   "source": [
    "df['Call Duration']=df['Call Duration'].astype('datetime64[ns]')"
   ]
  },
  {
   "cell_type": "code",
   "execution_count": 37,
   "id": "2d16dd29",
   "metadata": {},
   "outputs": [
    {
     "data": {
      "text/html": [
       "<div>\n",
       "<style scoped>\n",
       "    .dataframe tbody tr th:only-of-type {\n",
       "        vertical-align: middle;\n",
       "    }\n",
       "\n",
       "    .dataframe tbody tr th {\n",
       "        vertical-align: top;\n",
       "    }\n",
       "\n",
       "    .dataframe thead th {\n",
       "        text-align: right;\n",
       "    }\n",
       "</style>\n",
       "<table border=\"1\" class=\"dataframe\">\n",
       "  <thead>\n",
       "    <tr style=\"text-align: right;\">\n",
       "      <th></th>\n",
       "      <th>Job</th>\n",
       "      <th>Marital Status</th>\n",
       "      <th>Loan Default</th>\n",
       "      <th>Housing Loan</th>\n",
       "      <th>Personal Loan</th>\n",
       "      <th>Education</th>\n",
       "      <th>Contact</th>\n",
       "      <th>poutcome</th>\n",
       "      <th>Subscription</th>\n",
       "      <th>Month_name</th>\n",
       "      <th>Weekday_name</th>\n",
       "    </tr>\n",
       "  </thead>\n",
       "  <tbody>\n",
       "    <tr>\n",
       "      <th>count</th>\n",
       "      <td>44610</td>\n",
       "      <td>44610</td>\n",
       "      <td>44610</td>\n",
       "      <td>44610</td>\n",
       "      <td>44610</td>\n",
       "      <td>44610</td>\n",
       "      <td>44610</td>\n",
       "      <td>44610</td>\n",
       "      <td>44610</td>\n",
       "      <td>44610</td>\n",
       "      <td>44610</td>\n",
       "    </tr>\n",
       "    <tr>\n",
       "      <th>unique</th>\n",
       "      <td>12</td>\n",
       "      <td>3</td>\n",
       "      <td>2</td>\n",
       "      <td>2</td>\n",
       "      <td>2</td>\n",
       "      <td>4</td>\n",
       "      <td>3</td>\n",
       "      <td>4</td>\n",
       "      <td>2</td>\n",
       "      <td>12</td>\n",
       "      <td>7</td>\n",
       "    </tr>\n",
       "    <tr>\n",
       "      <th>top</th>\n",
       "      <td>blue-collar</td>\n",
       "      <td>married</td>\n",
       "      <td>0</td>\n",
       "      <td>1</td>\n",
       "      <td>0</td>\n",
       "      <td>masters</td>\n",
       "      <td>cellular</td>\n",
       "      <td>unknown</td>\n",
       "      <td>0</td>\n",
       "      <td>May</td>\n",
       "      <td>Sunday</td>\n",
       "    </tr>\n",
       "    <tr>\n",
       "      <th>freq</th>\n",
       "      <td>9632</td>\n",
       "      <td>26879</td>\n",
       "      <td>43806</td>\n",
       "      <td>24861</td>\n",
       "      <td>37443</td>\n",
       "      <td>22892</td>\n",
       "      <td>28886</td>\n",
       "      <td>36568</td>\n",
       "      <td>39460</td>\n",
       "      <td>13610</td>\n",
       "      <td>9394</td>\n",
       "    </tr>\n",
       "  </tbody>\n",
       "</table>\n",
       "</div>"
      ],
      "text/plain": [
       "                Job Marital Status Loan Default Housing Loan Personal Loan  \\\n",
       "count         44610          44610        44610        44610         44610   \n",
       "unique           12              3            2            2             2   \n",
       "top     blue-collar        married            0            1             0   \n",
       "freq           9632          26879        43806        24861         37443   \n",
       "\n",
       "       Education   Contact poutcome Subscription Month_name Weekday_name  \n",
       "count      44610     44610    44610        44610      44610        44610  \n",
       "unique         4         3        4            2         12            7  \n",
       "top      masters  cellular  unknown            0        May       Sunday  \n",
       "freq       22892     28886    36568        39460      13610         9394  "
      ]
     },
     "execution_count": 37,
     "metadata": {},
     "output_type": "execute_result"
    }
   ],
   "source": [
    "df.describe(include='object')"
   ]
  },
  {
   "cell_type": "code",
   "execution_count": 38,
   "id": "bfcdf3c5",
   "metadata": {},
   "outputs": [
    {
     "name": "stdout",
     "output_type": "stream",
     "text": [
      "Job\n",
      "['management' 'technician' 'entrepreneur' 'blue-collar' 'unknown'\n",
      " 'retired' 'admin' 'services' 'self-employed' 'student' 'unemployed'\n",
      " 'housemaid']\n",
      "----------------------------------------------------------------------\n",
      "Marital Status\n",
      "['married' 'single' 'divorced']\n",
      "----------------------------------------------------------------------\n",
      "Loan Default\n",
      "['0' '1']\n",
      "----------------------------------------------------------------------\n",
      "Housing Loan\n",
      "['1' '0']\n",
      "----------------------------------------------------------------------\n",
      "Personal Loan\n",
      "['0' '1']\n",
      "----------------------------------------------------------------------\n",
      "Education\n",
      "['Doctorate' 'masters' 'unknown' 'bachelors']\n",
      "----------------------------------------------------------------------\n",
      "Contact\n",
      "['unknown' 'cellular' 'telephone']\n",
      "----------------------------------------------------------------------\n",
      "poutcome\n",
      "['unknown' 'failure' 'other' 'success']\n",
      "----------------------------------------------------------------------\n",
      "Subscription\n",
      "['0' '1']\n",
      "----------------------------------------------------------------------\n",
      "Month_name\n",
      "['May' 'June' 'July' 'August' 'October' 'November' 'December' 'January'\n",
      " 'February' 'March' 'April' 'September']\n",
      "----------------------------------------------------------------------\n",
      "Weekday_name\n",
      "['Friday' 'Saturday' 'Sunday' 'Tuesday' 'Monday' 'Wednesday' 'Thursday']\n",
      "----------------------------------------------------------------------\n"
     ]
    }
   ],
   "source": [
    "for col in df.describe(include='object').columns:\n",
    "    print(col)\n",
    "    print(df[col].unique())\n",
    "    print('-'*70)"
   ]
  },
  {
   "cell_type": "code",
   "execution_count": 39,
   "id": "b9586fbe",
   "metadata": {},
   "outputs": [
    {
     "data": {
      "text/html": [
       "<div>\n",
       "<style scoped>\n",
       "    .dataframe tbody tr th:only-of-type {\n",
       "        vertical-align: middle;\n",
       "    }\n",
       "\n",
       "    .dataframe tbody tr th {\n",
       "        vertical-align: top;\n",
       "    }\n",
       "\n",
       "    .dataframe thead th {\n",
       "        text-align: right;\n",
       "    }\n",
       "</style>\n",
       "<table border=\"1\" class=\"dataframe\">\n",
       "  <thead>\n",
       "    <tr style=\"text-align: right;\">\n",
       "      <th></th>\n",
       "      <th>Age</th>\n",
       "      <th>Cash Balance</th>\n",
       "      <th>pdays</th>\n",
       "      <th>previous</th>\n",
       "    </tr>\n",
       "  </thead>\n",
       "  <tbody>\n",
       "    <tr>\n",
       "      <th>count</th>\n",
       "      <td>44610.000000</td>\n",
       "      <td>4.461000e+04</td>\n",
       "      <td>44610.000000</td>\n",
       "      <td>44610.000000</td>\n",
       "    </tr>\n",
       "    <tr>\n",
       "      <th>mean</th>\n",
       "      <td>40.923268</td>\n",
       "      <td>6.816217e+04</td>\n",
       "      <td>39.778390</td>\n",
       "      <td>0.569917</td>\n",
       "    </tr>\n",
       "    <tr>\n",
       "      <th>std</th>\n",
       "      <td>10.593706</td>\n",
       "      <td>1.526036e+05</td>\n",
       "      <td>99.507125</td>\n",
       "      <td>2.298600</td>\n",
       "    </tr>\n",
       "    <tr>\n",
       "      <th>min</th>\n",
       "      <td>18.000000</td>\n",
       "      <td>-4.009500e+05</td>\n",
       "      <td>-1.000000</td>\n",
       "      <td>0.000000</td>\n",
       "    </tr>\n",
       "    <tr>\n",
       "      <th>25%</th>\n",
       "      <td>33.000000</td>\n",
       "      <td>3.550000e+03</td>\n",
       "      <td>-1.000000</td>\n",
       "      <td>0.000000</td>\n",
       "    </tr>\n",
       "    <tr>\n",
       "      <th>50%</th>\n",
       "      <td>39.000000</td>\n",
       "      <td>2.230000e+04</td>\n",
       "      <td>-1.000000</td>\n",
       "      <td>0.000000</td>\n",
       "    </tr>\n",
       "    <tr>\n",
       "      <th>75%</th>\n",
       "      <td>48.000000</td>\n",
       "      <td>7.123750e+04</td>\n",
       "      <td>-1.000000</td>\n",
       "      <td>0.000000</td>\n",
       "    </tr>\n",
       "    <tr>\n",
       "      <th>max</th>\n",
       "      <td>95.000000</td>\n",
       "      <td>5.106350e+06</td>\n",
       "      <td>854.000000</td>\n",
       "      <td>275.000000</td>\n",
       "    </tr>\n",
       "  </tbody>\n",
       "</table>\n",
       "</div>"
      ],
      "text/plain": [
       "                Age  Cash Balance         pdays      previous\n",
       "count  44610.000000  4.461000e+04  44610.000000  44610.000000\n",
       "mean      40.923268  6.816217e+04     39.778390      0.569917\n",
       "std       10.593706  1.526036e+05     99.507125      2.298600\n",
       "min       18.000000 -4.009500e+05     -1.000000      0.000000\n",
       "25%       33.000000  3.550000e+03     -1.000000      0.000000\n",
       "50%       39.000000  2.230000e+04     -1.000000      0.000000\n",
       "75%       48.000000  7.123750e+04     -1.000000      0.000000\n",
       "max       95.000000  5.106350e+06    854.000000    275.000000"
      ]
     },
     "execution_count": 39,
     "metadata": {},
     "output_type": "execute_result"
    }
   ],
   "source": [
    "df[['Age','Cash Balance','pdays','previous']].describe()"
   ]
  },
  {
   "cell_type": "code",
   "execution_count": 40,
   "id": "413bef5b",
   "metadata": {},
   "outputs": [
    {
     "data": {
      "image/png": "[encoded data removed]",
      "text/plain": [
       "<Figure size 640x480 with 1 Axes>"
      ]
     },
     "metadata": {},
     "output_type": "display_data"
    }
   ],
   "source": [
    "# detecting outliers\n",
    "ax=plt.boxplot(x='previous',data=df)"
   ]
  },
  {
   "cell_type": "code",
   "execution_count": 41,
   "id": "02b7eab0",
   "metadata": {},
   "outputs": [
    {
     "data": {
      "image/png": "[encoded data removed]",
      "text/plain": [
       "<Figure size 640x480 with 1 Axes>"
      ]
     },
     "metadata": {},
     "output_type": "display_data"
    }
   ],
   "source": [
    "ac=plt.boxplot(x='pdays',data=df)"
   ]
  },
  {
   "cell_type": "code",
   "execution_count": 42,
   "id": "36a23927",
   "metadata": {},
   "outputs": [],
   "source": [
    "#removing outliers\n",
    "df=df[df['previous']<275]"
   ]
  },
  {
   "cell_type": "code",
   "execution_count": 43,
   "id": "0d7c96af",
   "metadata": {},
   "outputs": [
    {
     "data": {
      "text/html": [
       "<div>\n",
       "<style scoped>\n",
       "    .dataframe tbody tr th:only-of-type {\n",
       "        vertical-align: middle;\n",
       "    }\n",
       "\n",
       "    .dataframe tbody tr th {\n",
       "        vertical-align: top;\n",
       "    }\n",
       "\n",
       "    .dataframe thead th {\n",
       "        text-align: right;\n",
       "    }\n",
       "</style>\n",
       "<table border=\"1\" class=\"dataframe\">\n",
       "  <thead>\n",
       "    <tr style=\"text-align: right;\">\n",
       "      <th></th>\n",
       "      <th>previous</th>\n",
       "    </tr>\n",
       "  </thead>\n",
       "  <tbody>\n",
       "    <tr>\n",
       "      <th>count</th>\n",
       "      <td>44609.000000</td>\n",
       "    </tr>\n",
       "    <tr>\n",
       "      <th>mean</th>\n",
       "      <td>0.563765</td>\n",
       "    </tr>\n",
       "    <tr>\n",
       "      <th>std</th>\n",
       "      <td>1.896138</td>\n",
       "    </tr>\n",
       "    <tr>\n",
       "      <th>min</th>\n",
       "      <td>0.000000</td>\n",
       "    </tr>\n",
       "    <tr>\n",
       "      <th>25%</th>\n",
       "      <td>0.000000</td>\n",
       "    </tr>\n",
       "    <tr>\n",
       "      <th>50%</th>\n",
       "      <td>0.000000</td>\n",
       "    </tr>\n",
       "    <tr>\n",
       "      <th>75%</th>\n",
       "      <td>0.000000</td>\n",
       "    </tr>\n",
       "    <tr>\n",
       "      <th>max</th>\n",
       "      <td>58.000000</td>\n",
       "    </tr>\n",
       "  </tbody>\n",
       "</table>\n",
       "</div>"
      ],
      "text/plain": [
       "           previous\n",
       "count  44609.000000\n",
       "mean       0.563765\n",
       "std        1.896138\n",
       "min        0.000000\n",
       "25%        0.000000\n",
       "50%        0.000000\n",
       "75%        0.000000\n",
       "max       58.000000"
      ]
     },
     "execution_count": 43,
     "metadata": {},
     "output_type": "execute_result"
    }
   ],
   "source": [
    "df[['previous']].describe()"
   ]
  },
  {
   "cell_type": "markdown",
   "id": "93e0be0b",
   "metadata": {},
   "source": [
    "# Data visulaizations"
   ]
  },
  {
   "cell_type": "markdown",
   "id": "b4d6b67a",
   "metadata": {},
   "source": [
    " Segmented Univariate Analysis"
   ]
  },
  {
   "cell_type": "code",
   "execution_count": 44,
   "id": "c2276e23",
   "metadata": {},
   "outputs": [
    {
     "data": {
      "text/plain": [
       "Marital Status\n",
       "married     0.602524\n",
       "single      0.282387\n",
       "divorced    0.115089\n",
       "Name: proportion, dtype: float64"
      ]
     },
     "execution_count": 44,
     "metadata": {},
     "output_type": "execute_result"
    }
   ],
   "source": [
    "Marital_status = df['Marital Status'].value_counts(normalize=True)\n",
    "Marital_status"
   ]
  },
  {
   "cell_type": "code",
   "execution_count": 45,
   "id": "9cb2cc0b",
   "metadata": {},
   "outputs": [
    {
     "data": {
      "image/png": "[encoded data removed]",
      "text/plain": [
       "<Figure size 500x400 with 1 Axes>"
      ]
     },
     "metadata": {},
     "output_type": "display_data"
    }
   ],
   "source": [
    "# Marital Status\n",
    "Marital_status = df['Marital Status'].value_counts(normalize=True)\n",
    "Marital_status\n",
    "plt.figure(figsize=(5,4))\n",
    "plt.title('Marital status count')\n",
    "bx = plt.bar(['married','single','divorced'],Marital_status)"
   ]
  },
  {
   "cell_type": "code",
   "execution_count": 46,
   "id": "b46fbccd",
   "metadata": {},
   "outputs": [
    {
     "data": {
      "image/png": "[encoded data removed]",
      "text/plain": [
       "<Figure size 400x300 with 1 Axes>"
      ]
     },
     "metadata": {},
     "output_type": "display_data"
    }
   ],
   "source": [
    "plt.figure(figsize=(4,3))\n",
    "plt.title('Marital status count')\n",
    "plt.pie(Marital_status,autopct='%.2f',labels = Marital_status.index)\n",
    "plt.show()"
   ]
  },
  {
   "cell_type": "markdown",
   "id": "f21dc3d9",
   "metadata": {},
   "source": [
    "From above graph we can infer that most of the customers are married."
   ]
  },
  {
   "cell_type": "code",
   "execution_count": 47,
   "id": "b0af2ace",
   "metadata": {},
   "outputs": [
    {
     "data": {
      "text/plain": [
       "Education\n",
       "masters      0.513170\n",
       "Doctorate    0.294380\n",
       "bachelors    0.151494\n",
       "unknown      0.040956\n",
       "Name: proportion, dtype: float64"
      ]
     },
     "execution_count": 47,
     "metadata": {},
     "output_type": "execute_result"
    }
   ],
   "source": [
    "# Education\n",
    "Education_count = df['Education'].value_counts(normalize=True)\n",
    "Education_count"
   ]
  },
  {
   "cell_type": "code",
   "execution_count": 48,
   "id": "f680e38e",
   "metadata": {},
   "outputs": [
    {
     "data": {
      "image/png": "[encoded data removed]",
      "text/plain": [
       "<Figure size 400x300 with 1 Axes>"
      ]
     },
     "metadata": {},
     "output_type": "display_data"
    }
   ],
   "source": [
    "plt.figure(figsize=(4,3))\n",
    "plt.title('Education Counts')\n",
    "plt.pie(Education_count,autopct='%.2f',labels=Education_count.index)\n",
    "plt.show()"
   ]
  },
  {
   "cell_type": "markdown",
   "id": "fca21fb1",
   "metadata": {},
   "source": [
    "From above graph we can infer that most of the customers are masters."
   ]
  },
  {
   "cell_type": "code",
   "execution_count": 49,
   "id": "aaaa6733",
   "metadata": {},
   "outputs": [
    {
     "data": {
      "image/png": "[encoded data removed]",
      "text/plain": [
       "<Figure size 400x300 with 1 Axes>"
      ]
     },
     "metadata": {},
     "output_type": "display_data"
    }
   ],
   "source": [
    "# Subscription\n",
    "subscription_count = df['Subscription'].value_counts(normalize=True)\n",
    "subscription_count\n",
    "plt.figure(figsize=(4,3))\n",
    "plt.title('Subscription percentage')\n",
    "plt.pie(subscription_count,autopct='%.2f',labels=subscription_count.index)\n",
    "plt.show()"
   ]
  },
  {
   "cell_type": "markdown",
   "id": "79a35489",
   "metadata": {},
   "source": [
    "From above graph we can infer that only 11.5% of the customers have susbcribed term deposit."
   ]
  },
  {
   "cell_type": "code",
   "execution_count": 50,
   "id": "e36e003f",
   "metadata": {},
   "outputs": [
    {
     "data": {
      "image/png": "[encoded data removed]",
      "text/plain": [
       "<Figure size 400x300 with 1 Axes>"
      ]
     },
     "metadata": {},
     "output_type": "display_data"
    }
   ],
   "source": [
    "#poutcome\n",
    "poutcome_count = df['poutcome'].value_counts(normalize=True)\n",
    "poutcome_count\n",
    "plt.figure(figsize=(4,3))\n",
    "plt.title('poutcome count')\n",
    "plt.pie(poutcome_count,autopct='%.2f',labels=poutcome_count.index)\n",
    "plt.show()\n"
   ]
  },
  {
   "cell_type": "markdown",
   "id": "d047d76f",
   "metadata": {},
   "source": [
    "From above graph we can infer that around 82% of the customers have not been contacted previously or contacted for the first time for any services by the bank."
   ]
  },
  {
   "cell_type": "markdown",
   "id": "58f333ce",
   "metadata": {},
   "source": [
    "Univariate Analysis"
   ]
  },
  {
   "cell_type": "code",
   "execution_count": 51,
   "id": "bc01b0f8",
   "metadata": {},
   "outputs": [
    {
     "data": {
      "image/png": "[encoded data removed]",
      "text/plain": [
       "<Figure size 640x480 with 1 Axes>"
      ]
     },
     "metadata": {},
     "output_type": "display_data"
    }
   ],
   "source": [
    "# Age\n",
    "ax = sns.countplot(x='Age',data=df)\n",
    "sns.set(rc={'figure.figsize':(30,5)})"
   ]
  },
  {
   "cell_type": "markdown",
   "id": "239c5f90",
   "metadata": {},
   "source": [
    "From above graph we can infer that most of the customers are in the age group 23-60 years."
   ]
  },
  {
   "cell_type": "code",
   "execution_count": 52,
   "id": "3834d6ea",
   "metadata": {},
   "outputs": [
    {
     "data": {
      "image/png": "[encoded data removed]",
      "text/plain": [
       "<Figure size 3000x500 with 1 Axes>"
      ]
     },
     "metadata": {},
     "output_type": "display_data"
    }
   ],
   "source": [
    "# Job\n",
    "ax1=sns.countplot(x='Job',data=df)\n",
    "sns.set(rc={'figure.figsize':(20,10)})\n",
    "for bars in ax1.containers:\n",
    "    ax1.bar_label(bars)\n",
    "plt.title('Count of Jobs')\n",
    "plt.show()"
   ]
  },
  {
   "cell_type": "markdown",
   "id": "ae5e905c",
   "metadata": {},
   "source": [
    "From above graph we can infer that most of the working professionals are from blue-collor and management jobs."
   ]
  },
  {
   "cell_type": "code",
   "execution_count": 53,
   "id": "a769b775",
   "metadata": {},
   "outputs": [
    {
     "data": {
      "text/plain": [
       "Loan Default\n",
       "0    0.981977\n",
       "1    0.018023\n",
       "Name: proportion, dtype: float64"
      ]
     },
     "execution_count": 53,
     "metadata": {},
     "output_type": "execute_result"
    }
   ],
   "source": [
    "#Loans\n",
    "loan_default=df['Loan Default'].value_counts(normalize=True)\n",
    "loan_default\n"
   ]
  },
  {
   "cell_type": "code",
   "execution_count": 54,
   "id": "62e5e701",
   "metadata": {},
   "outputs": [
    {
     "data": {
      "text/plain": [
       "Housing Loan\n",
       "1    0.557287\n",
       "0    0.442713\n",
       "Name: proportion, dtype: float64"
      ]
     },
     "execution_count": 54,
     "metadata": {},
     "output_type": "execute_result"
    }
   ],
   "source": [
    "Housing_loan=df['Housing Loan'].value_counts(normalize=True)\n",
    "Housing_loan"
   ]
  },
  {
   "cell_type": "code",
   "execution_count": 55,
   "id": "4d1f7140",
   "metadata": {},
   "outputs": [
    {
     "data": {
      "text/plain": [
       "Personal Loan\n",
       "0    0.839337\n",
       "1    0.160663\n",
       "Name: proportion, dtype: float64"
      ]
     },
     "execution_count": 55,
     "metadata": {},
     "output_type": "execute_result"
    }
   ],
   "source": [
    "Personal_loan=df['Personal Loan'].value_counts(normalize=True)\n",
    "Personal_loan"
   ]
  },
  {
   "cell_type": "code",
   "execution_count": 56,
   "id": "ff84676a",
   "metadata": {},
   "outputs": [
    {
     "data": {
      "text/html": [
       "<div>\n",
       "<style scoped>\n",
       "    .dataframe tbody tr th:only-of-type {\n",
       "        vertical-align: middle;\n",
       "    }\n",
       "\n",
       "    .dataframe tbody tr th {\n",
       "        vertical-align: top;\n",
       "    }\n",
       "\n",
       "    .dataframe thead th {\n",
       "        text-align: right;\n",
       "    }\n",
       "</style>\n",
       "<table border=\"1\" class=\"dataframe\">\n",
       "  <thead>\n",
       "    <tr style=\"text-align: right;\">\n",
       "      <th></th>\n",
       "      <th>Loan</th>\n",
       "      <th>0</th>\n",
       "      <th>1</th>\n",
       "    </tr>\n",
       "  </thead>\n",
       "  <tbody>\n",
       "    <tr>\n",
       "      <th>0</th>\n",
       "      <td>Loan Default</td>\n",
       "      <td>98</td>\n",
       "      <td>1.8</td>\n",
       "    </tr>\n",
       "    <tr>\n",
       "      <th>1</th>\n",
       "      <td>Housing Loan</td>\n",
       "      <td>44</td>\n",
       "      <td>55.0</td>\n",
       "    </tr>\n",
       "    <tr>\n",
       "      <th>2</th>\n",
       "      <td>Personal Loan</td>\n",
       "      <td>83</td>\n",
       "      <td>16.0</td>\n",
       "    </tr>\n",
       "  </tbody>\n",
       "</table>\n",
       "</div>"
      ],
      "text/plain": [
       "            Loan   0     1\n",
       "0   Loan Default  98   1.8\n",
       "1   Housing Loan  44  55.0\n",
       "2  Personal Loan  83  16.0"
      ]
     },
     "execution_count": 56,
     "metadata": {},
     "output_type": "execute_result"
    }
   ],
   "source": [
    "dc=pd.DataFrame({'Loan':['Loan Default','Housing Loan','Personal Loan'],'0':[98,44,83],'1':[1.80,55,16]})\n",
    "dc"
   ]
  },
  {
   "cell_type": "code",
   "execution_count": 57,
   "id": "ee216f22",
   "metadata": {},
   "outputs": [
    {
     "data": {
      "image/png": "[encoded data removed]",
      "text/plain": [
       "<Figure size 2000x1000 with 1 Axes>"
      ]
     },
     "metadata": {},
     "output_type": "display_data"
    }
   ],
   "source": [
    "dx = dc.plot(x='Loan',y=['0','1'],kind='bar',color=['Blue','Grey'],stacked=True)\n",
    "sns.set(rc={'figure.figsize':(5,4)})\n",
    "plt.legend(fontsize=5)\n",
    "plt.show()"
   ]
  },
  {
   "cell_type": "markdown",
   "id": "75b44724",
   "metadata": {},
   "source": [
    "from the graph we can infer that only 1.80% customers have defaulted the loan. Majority of the customers have taken Housing loan as compared to personal loans."
   ]
  },
  {
   "cell_type": "code",
   "execution_count": 58,
   "id": "79632cf7",
   "metadata": {},
   "outputs": [
    {
     "data": {
      "text/plain": [
       "Month_name\n",
       "May          30.51\n",
       "July         15.33\n",
       "August       13.95\n",
       "June         11.86\n",
       "November      8.69\n",
       "April         6.54\n",
       "February      5.89\n",
       "January       3.11\n",
       "October       1.30\n",
       "September     1.28\n",
       "March         1.06\n",
       "December      0.48\n",
       "Name: proportion, dtype: float64"
      ]
     },
     "execution_count": 58,
     "metadata": {},
     "output_type": "execute_result"
    }
   ],
   "source": [
    "Month_count=df['Month_name'].value_counts(normalize=True)*100\n",
    "Month_count.round(2)"
   ]
  },
  {
   "cell_type": "code",
   "execution_count": 59,
   "id": "f2ff4ffd",
   "metadata": {},
   "outputs": [
    {
     "data": {
      "text/plain": [
       "Text(0.5, 1.0, 'Customers contacted in the month')"
      ]
     },
     "execution_count": 59,
     "metadata": {},
     "output_type": "execute_result"
    },
    {
     "data": {
      "image/png": "[encoded data removed]",
      "text/plain": [
       "<Figure size 500x400 with 1 Axes>"
      ]
     },
     "metadata": {},
     "output_type": "display_data"
    }
   ],
   "source": [
    "sns.countplot(x='Month_name',data=df)\n",
    "sns.set(rc={'figure.figsize':(25,10)})\n",
    "plt.title('Customers contacted in the month')"
   ]
  },
  {
   "cell_type": "markdown",
   "id": "3c462543",
   "metadata": {},
   "source": [
    "From the above graph we can infer that most customers have been contacted in the may."
   ]
  },
  {
   "cell_type": "code",
   "execution_count": 60,
   "id": "d0492093",
   "metadata": {},
   "outputs": [
    {
     "data": {
      "image/png": "[encoded data removed]",
      "text/plain": [
       "<Figure size 2500x1000 with 1 Axes>"
      ]
     },
     "metadata": {},
     "output_type": "display_data"
    }
   ],
   "source": [
    "sns.countplot(x='Weekday_name',data=df)\n",
    "sns.set(rc={'figure.figsize':(5,5)})\n",
    "plt.title('Weekday count',fontsize=10)\n",
    "plt.show()"
   ]
  },
  {
   "cell_type": "markdown",
   "id": "cb55e0ef",
   "metadata": {},
   "source": [
    "From the above graph we can infer that majority customers have been contacted on weekends."
   ]
  },
  {
   "cell_type": "markdown",
   "id": "63207dab",
   "metadata": {},
   "source": [
    "Bivariate Analysis"
   ]
  },
  {
   "cell_type": "code",
   "execution_count": 61,
   "id": "d02e1ec7",
   "metadata": {},
   "outputs": [
    {
     "data": {
      "image/png": "[encoded data removed]",
      "text/plain": [
       "<Figure size 500x500 with 1 Axes>"
      ]
     },
     "metadata": {},
     "output_type": "display_data"
    }
   ],
   "source": [
    "sns.countplot(x='Marital Status',hue='Subscription',data=df)\n",
    "plt.legend(['yes','no'],fontsize=10)\n",
    "plt.title('Subscription based on marital status')\n",
    "plt.show()"
   ]
  },
  {
   "cell_type": "markdown",
   "id": "3983b067",
   "metadata": {},
   "source": [
    "From the above graph we can infer that most of the customers are married who said yes to susbcription but it is only the count."
   ]
  },
  {
   "cell_type": "code",
   "execution_count": 62,
   "id": "045fadfe",
   "metadata": {},
   "outputs": [
    {
     "data": {
      "text/plain": [
       "Marital Status  Subscription\n",
       "divorced        0               88.08\n",
       "                1               11.92\n",
       "married         0               90.03\n",
       "                1                9.97\n",
       "single          0               85.26\n",
       "                1               14.74\n",
       "Name: proportion, dtype: float64"
      ]
     },
     "execution_count": 62,
     "metadata": {},
     "output_type": "execute_result"
    }
   ],
   "source": [
    "marital_conversion = df.groupby(['Marital Status'])['Subscription'].value_counts(normalize=True)*100\n",
    "marital_conversion.round(2)"
   ]
  },
  {
   "cell_type": "code",
   "execution_count": 63,
   "id": "5ee09499",
   "metadata": {},
   "outputs": [
    {
     "data": {
      "image/png": "[encoded data removed]",
      "text/plain": [
       "<Figure size 500x500 with 1 Axes>"
      ]
     },
     "metadata": {},
     "output_type": "display_data"
    }
   ],
   "source": [
    "md = marital_conversion.round(2).reset_index()\n",
    "md =md[md['Subscription']=='1']\n",
    "md = sns.barplot(x='Marital Status',y='proportion',data=md)\n",
    "sns.set(rc={'figure.figsize':(2,2)})\n",
    "plt.title('Conversion rate based on marital status')\n",
    "for bars in md.containers:\n",
    "    md.bar_label(bars)\n"
   ]
  },
  {
   "cell_type": "markdown",
   "id": "ff12d37b",
   "metadata": {},
   "source": [
    "From the above graph we can infer that the customers having high conversion rate are either single or divorced."
   ]
  },
  {
   "cell_type": "code",
   "execution_count": 64,
   "id": "c4edc639",
   "metadata": {},
   "outputs": [
    {
     "data": {
      "image/png": "[encoded data removed]",
      "text/plain": [
       "<Figure size 200x200 with 1 Axes>"
      ]
     },
     "metadata": {},
     "output_type": "display_data"
    }
   ],
   "source": [
    "sns.countplot(x='Education',hue='Subscription',data=df)\n",
    "plt.legend(['yes','no'],fontsize=10)\n",
    "plt.title('Subscription based on Education')\n",
    "plt.show()"
   ]
  },
  {
   "cell_type": "markdown",
   "id": "026ee18e",
   "metadata": {},
   "source": [
    "From the above graph we can infer that most of the customers are masters who said yes to susbcription but it is only the count"
   ]
  },
  {
   "cell_type": "code",
   "execution_count": 65,
   "id": "af33d1b2",
   "metadata": {
    "scrolled": true
   },
   "outputs": [
    {
     "data": {
      "text/plain": [
       "Education  Subscription\n",
       "Doctorate  0               85.18\n",
       "           1               14.82\n",
       "bachelors  0               91.40\n",
       "           1                8.60\n",
       "masters    0               89.61\n",
       "           1               10.39\n",
       "unknown    0               86.59\n",
       "           1               13.41\n",
       "Name: proportion, dtype: float64"
      ]
     },
     "execution_count": 65,
     "metadata": {},
     "output_type": "execute_result"
    }
   ],
   "source": [
    "education_conversion = df.groupby(['Education'])['Subscription'].value_counts(normalize=True)*100\n",
    "education_conversion.round(2)"
   ]
  },
  {
   "cell_type": "code",
   "execution_count": 66,
   "id": "75d2cf86",
   "metadata": {},
   "outputs": [
    {
     "data": {
      "text/html": [
       "<div>\n",
       "<style scoped>\n",
       "    .dataframe tbody tr th:only-of-type {\n",
       "        vertical-align: middle;\n",
       "    }\n",
       "\n",
       "    .dataframe tbody tr th {\n",
       "        vertical-align: top;\n",
       "    }\n",
       "\n",
       "    .dataframe thead th {\n",
       "        text-align: right;\n",
       "    }\n",
       "</style>\n",
       "<table border=\"1\" class=\"dataframe\">\n",
       "  <thead>\n",
       "    <tr style=\"text-align: right;\">\n",
       "      <th></th>\n",
       "      <th>Education</th>\n",
       "      <th>Subscription</th>\n",
       "      <th>conversion%</th>\n",
       "    </tr>\n",
       "  </thead>\n",
       "  <tbody>\n",
       "    <tr>\n",
       "      <th>0</th>\n",
       "      <td>Doctorate</td>\n",
       "      <td>0</td>\n",
       "      <td>85.18</td>\n",
       "    </tr>\n",
       "    <tr>\n",
       "      <th>1</th>\n",
       "      <td>Doctorate</td>\n",
       "      <td>1</td>\n",
       "      <td>14.82</td>\n",
       "    </tr>\n",
       "    <tr>\n",
       "      <th>2</th>\n",
       "      <td>bachelors</td>\n",
       "      <td>0</td>\n",
       "      <td>91.40</td>\n",
       "    </tr>\n",
       "    <tr>\n",
       "      <th>3</th>\n",
       "      <td>bachelors</td>\n",
       "      <td>1</td>\n",
       "      <td>8.60</td>\n",
       "    </tr>\n",
       "    <tr>\n",
       "      <th>4</th>\n",
       "      <td>masters</td>\n",
       "      <td>0</td>\n",
       "      <td>89.61</td>\n",
       "    </tr>\n",
       "    <tr>\n",
       "      <th>5</th>\n",
       "      <td>masters</td>\n",
       "      <td>1</td>\n",
       "      <td>10.39</td>\n",
       "    </tr>\n",
       "    <tr>\n",
       "      <th>6</th>\n",
       "      <td>unknown</td>\n",
       "      <td>0</td>\n",
       "      <td>86.59</td>\n",
       "    </tr>\n",
       "    <tr>\n",
       "      <th>7</th>\n",
       "      <td>unknown</td>\n",
       "      <td>1</td>\n",
       "      <td>13.41</td>\n",
       "    </tr>\n",
       "  </tbody>\n",
       "</table>\n",
       "</div>"
      ],
      "text/plain": [
       "   Education Subscription  conversion%\n",
       "0  Doctorate            0        85.18\n",
       "1  Doctorate            1        14.82\n",
       "2  bachelors            0        91.40\n",
       "3  bachelors            1         8.60\n",
       "4    masters            0        89.61\n",
       "5    masters            1        10.39\n",
       "6    unknown            0        86.59\n",
       "7    unknown            1        13.41"
      ]
     },
     "execution_count": 66,
     "metadata": {},
     "output_type": "execute_result"
    }
   ],
   "source": [
    "dc=education_conversion.round(2).reset_index(name='conversion%')\n",
    "dc"
   ]
  },
  {
   "cell_type": "code",
   "execution_count": 67,
   "id": "ea3f79e4",
   "metadata": {},
   "outputs": [
    {
     "data": {
      "text/html": [
       "<div>\n",
       "<style scoped>\n",
       "    .dataframe tbody tr th:only-of-type {\n",
       "        vertical-align: middle;\n",
       "    }\n",
       "\n",
       "    .dataframe tbody tr th {\n",
       "        vertical-align: top;\n",
       "    }\n",
       "\n",
       "    .dataframe thead th {\n",
       "        text-align: right;\n",
       "    }\n",
       "</style>\n",
       "<table border=\"1\" class=\"dataframe\">\n",
       "  <thead>\n",
       "    <tr style=\"text-align: right;\">\n",
       "      <th></th>\n",
       "      <th>Education</th>\n",
       "      <th>Subscription</th>\n",
       "      <th>conversion%</th>\n",
       "    </tr>\n",
       "  </thead>\n",
       "  <tbody>\n",
       "    <tr>\n",
       "      <th>1</th>\n",
       "      <td>Doctorate</td>\n",
       "      <td>1</td>\n",
       "      <td>14.82</td>\n",
       "    </tr>\n",
       "    <tr>\n",
       "      <th>3</th>\n",
       "      <td>bachelors</td>\n",
       "      <td>1</td>\n",
       "      <td>8.60</td>\n",
       "    </tr>\n",
       "    <tr>\n",
       "      <th>5</th>\n",
       "      <td>masters</td>\n",
       "      <td>1</td>\n",
       "      <td>10.39</td>\n",
       "    </tr>\n",
       "    <tr>\n",
       "      <th>7</th>\n",
       "      <td>unknown</td>\n",
       "      <td>1</td>\n",
       "      <td>13.41</td>\n",
       "    </tr>\n",
       "  </tbody>\n",
       "</table>\n",
       "</div>"
      ],
      "text/plain": [
       "   Education Subscription  conversion%\n",
       "1  Doctorate            1        14.82\n",
       "3  bachelors            1         8.60\n",
       "5    masters            1        10.39\n",
       "7    unknown            1        13.41"
      ]
     },
     "execution_count": 67,
     "metadata": {},
     "output_type": "execute_result"
    }
   ],
   "source": [
    "da=dc[dc['Subscription']=='1']\n",
    "da"
   ]
  },
  {
   "cell_type": "code",
   "execution_count": 68,
   "id": "bda04521",
   "metadata": {
    "scrolled": true
   },
   "outputs": [
    {
     "data": {
      "image/png": "[encoded data removed]",
      "text/plain": [
       "<Figure size 200x200 with 1 Axes>"
      ]
     },
     "metadata": {},
     "output_type": "display_data"
    }
   ],
   "source": [
    "dz=sns.barplot(x='Education',y='conversion%',data=da)\n",
    "plt.title('conversion% by Education')\n",
    "sns.set(rc={'figure.figsize':(4,3)})\n",
    "for bars in dz.containers:\n",
    "    dz.bar_label(bars)\n"
   ]
  },
  {
   "cell_type": "markdown",
   "id": "1f1be705",
   "metadata": {},
   "source": [
    "From the above graph we can infer that conversion rate of doctorates and unknown are high."
   ]
  },
  {
   "cell_type": "code",
   "execution_count": 69,
   "id": "c548e604",
   "metadata": {
    "scrolled": true
   },
   "outputs": [
    {
     "data": {
      "text/plain": [
       "poutcome  Subscription\n",
       "failure   0               87.53\n",
       "          1               12.47\n",
       "other     0               83.55\n",
       "          1               16.45\n",
       "success   1               64.28\n",
       "          0               35.72\n",
       "unknown   0               90.87\n",
       "          1                9.13\n",
       "Name: proportion, dtype: float64"
      ]
     },
     "execution_count": 69,
     "metadata": {},
     "output_type": "execute_result"
    }
   ],
   "source": [
    "poutcome_conversion=df.groupby(['poutcome'])['Subscription'].value_counts(normalize=True)*100\n",
    "poutcome_conversion.round(2)\n"
   ]
  },
  {
   "cell_type": "code",
   "execution_count": 70,
   "id": "0d07447e",
   "metadata": {},
   "outputs": [
    {
     "data": {
      "text/html": [
       "<div>\n",
       "<style scoped>\n",
       "    .dataframe tbody tr th:only-of-type {\n",
       "        vertical-align: middle;\n",
       "    }\n",
       "\n",
       "    .dataframe tbody tr th {\n",
       "        vertical-align: top;\n",
       "    }\n",
       "\n",
       "    .dataframe thead th {\n",
       "        text-align: right;\n",
       "    }\n",
       "</style>\n",
       "<table border=\"1\" class=\"dataframe\">\n",
       "  <thead>\n",
       "    <tr style=\"text-align: right;\">\n",
       "      <th></th>\n",
       "      <th>poutcome</th>\n",
       "      <th>Subscription</th>\n",
       "      <th>conversion%</th>\n",
       "    </tr>\n",
       "  </thead>\n",
       "  <tbody>\n",
       "    <tr>\n",
       "      <th>0</th>\n",
       "      <td>failure</td>\n",
       "      <td>0</td>\n",
       "      <td>87.53</td>\n",
       "    </tr>\n",
       "    <tr>\n",
       "      <th>1</th>\n",
       "      <td>failure</td>\n",
       "      <td>1</td>\n",
       "      <td>12.47</td>\n",
       "    </tr>\n",
       "    <tr>\n",
       "      <th>2</th>\n",
       "      <td>other</td>\n",
       "      <td>0</td>\n",
       "      <td>83.55</td>\n",
       "    </tr>\n",
       "    <tr>\n",
       "      <th>3</th>\n",
       "      <td>other</td>\n",
       "      <td>1</td>\n",
       "      <td>16.45</td>\n",
       "    </tr>\n",
       "    <tr>\n",
       "      <th>4</th>\n",
       "      <td>success</td>\n",
       "      <td>1</td>\n",
       "      <td>64.28</td>\n",
       "    </tr>\n",
       "    <tr>\n",
       "      <th>5</th>\n",
       "      <td>success</td>\n",
       "      <td>0</td>\n",
       "      <td>35.72</td>\n",
       "    </tr>\n",
       "    <tr>\n",
       "      <th>6</th>\n",
       "      <td>unknown</td>\n",
       "      <td>0</td>\n",
       "      <td>90.87</td>\n",
       "    </tr>\n",
       "    <tr>\n",
       "      <th>7</th>\n",
       "      <td>unknown</td>\n",
       "      <td>1</td>\n",
       "      <td>9.13</td>\n",
       "    </tr>\n",
       "  </tbody>\n",
       "</table>\n",
       "</div>"
      ],
      "text/plain": [
       "  poutcome Subscription  conversion%\n",
       "0  failure            0        87.53\n",
       "1  failure            1        12.47\n",
       "2    other            0        83.55\n",
       "3    other            1        16.45\n",
       "4  success            1        64.28\n",
       "5  success            0        35.72\n",
       "6  unknown            0        90.87\n",
       "7  unknown            1         9.13"
      ]
     },
     "execution_count": 70,
     "metadata": {},
     "output_type": "execute_result"
    }
   ],
   "source": [
    "#converting results of value_count and group by in to data frame\n",
    "dt=poutcome_conversion.round(2).reset_index(name='conversion%')\n",
    "dt"
   ]
  },
  {
   "cell_type": "code",
   "execution_count": 71,
   "id": "fbb8a1ee",
   "metadata": {},
   "outputs": [
    {
     "data": {
      "text/html": [
       "<div>\n",
       "<style scoped>\n",
       "    .dataframe tbody tr th:only-of-type {\n",
       "        vertical-align: middle;\n",
       "    }\n",
       "\n",
       "    .dataframe tbody tr th {\n",
       "        vertical-align: top;\n",
       "    }\n",
       "\n",
       "    .dataframe thead th {\n",
       "        text-align: right;\n",
       "    }\n",
       "</style>\n",
       "<table border=\"1\" class=\"dataframe\">\n",
       "  <thead>\n",
       "    <tr style=\"text-align: right;\">\n",
       "      <th></th>\n",
       "      <th>poutcome</th>\n",
       "      <th>Subscription</th>\n",
       "      <th>conversion%</th>\n",
       "    </tr>\n",
       "  </thead>\n",
       "  <tbody>\n",
       "    <tr>\n",
       "      <th>1</th>\n",
       "      <td>failure</td>\n",
       "      <td>1</td>\n",
       "      <td>12.47</td>\n",
       "    </tr>\n",
       "    <tr>\n",
       "      <th>3</th>\n",
       "      <td>other</td>\n",
       "      <td>1</td>\n",
       "      <td>16.45</td>\n",
       "    </tr>\n",
       "    <tr>\n",
       "      <th>4</th>\n",
       "      <td>success</td>\n",
       "      <td>1</td>\n",
       "      <td>64.28</td>\n",
       "    </tr>\n",
       "    <tr>\n",
       "      <th>7</th>\n",
       "      <td>unknown</td>\n",
       "      <td>1</td>\n",
       "      <td>9.13</td>\n",
       "    </tr>\n",
       "  </tbody>\n",
       "</table>\n",
       "</div>"
      ],
      "text/plain": [
       "  poutcome Subscription  conversion%\n",
       "1  failure            1        12.47\n",
       "3    other            1        16.45\n",
       "4  success            1        64.28\n",
       "7  unknown            1         9.13"
      ]
     },
     "execution_count": 71,
     "metadata": {},
     "output_type": "execute_result"
    }
   ],
   "source": [
    "dy = dt[dt['Subscription'] == '1']\n",
    "dy"
   ]
  },
  {
   "cell_type": "code",
   "execution_count": 72,
   "id": "29464b7e",
   "metadata": {},
   "outputs": [
    {
     "data": {
      "image/png": "[encoded data removed]",
      "text/plain": [
       "<Figure size 400x300 with 1 Axes>"
      ]
     },
     "metadata": {},
     "output_type": "display_data"
    }
   ],
   "source": [
    "pc=sns.barplot(x='poutcome',y='conversion%',data=dy)\n",
    "plt.title('conversion percentage by poutcomes')\n",
    "for bars in pc.containers:\n",
    "    pc.bar_label(bars)"
   ]
  },
  {
   "cell_type": "markdown",
   "id": "c18bc1e1",
   "metadata": {},
   "source": [
    "From the above graph we can infer that the conversion rate of the customers who are laready been susbcribed to other services have shown interest again."
   ]
  },
  {
   "cell_type": "code",
   "execution_count": 73,
   "id": "7376f8ab",
   "metadata": {},
   "outputs": [
    {
     "data": {
      "text/plain": [
       "poutcome\n",
       "unknown    64.834951\n",
       "success    17.747573\n",
       "failure    11.689320\n",
       "other       5.728155\n",
       "Name: proportion, dtype: float64"
      ]
     },
     "execution_count": 73,
     "metadata": {},
     "output_type": "execute_result"
    }
   ],
   "source": [
    "# data represent the conversion% based on total number of successful conversions\n",
    "sub_yes=df[df['Subscription']=='1']['poutcome'].value_counts(normalize=True)*100\n",
    "sub_yes"
   ]
  },
  {
   "cell_type": "code",
   "execution_count": 74,
   "id": "ab09f289",
   "metadata": {},
   "outputs": [
    {
     "data": {
      "text/plain": [
       "Index(['Age', 'Job', 'Marital Status', 'Loan Default', 'Housing Loan',\n",
       "       'Personal Loan', 'Education', 'Cash Balance', 'Contact', 'pdays',\n",
       "       'previous', 'poutcome', 'Subscription', 'Date', 'Call Duration',\n",
       "       'Month_name', 'Weekday', 'Weekday_name'],\n",
       "      dtype='object')"
      ]
     },
     "execution_count": 74,
     "metadata": {},
     "output_type": "execute_result"
    }
   ],
   "source": [
    "df.columns"
   ]
  },
  {
   "cell_type": "code",
   "execution_count": 75,
   "id": "9dbe73f7",
   "metadata": {},
   "outputs": [],
   "source": [
    "#% conversion of the people who have been contacted by bank previously out of successful conversion\n",
    "previous_conversion=df[df['Subscription']=='1']['previous'].value_counts(normalize=True)*100\n",
    "dv=previous_conversion.round(0)"
   ]
  },
  {
   "cell_type": "code",
   "execution_count": 79,
   "id": "d830fcfc",
   "metadata": {},
   "outputs": [
    {
     "data": {
      "image/png": "[encoded data removed]",
      "text/plain": [
       "<Figure size 2000x500 with 1 Axes>"
      ]
     },
     "metadata": {},
     "output_type": "display_data"
    }
   ],
   "source": [
    "pv=dv.plot(x='previous',y='Subscription',kind='bar')\n",
    "plt.title('successful conversion by previous')\n",
    "sns.set(rc={'figure.figsize':(20,5)})\n",
    "for bars in pv.containers:\n",
    "    pv.bar_label(bars)\n",
    "plt.show()"
   ]
  },
  {
   "cell_type": "markdown",
   "id": "1c7f1d72",
   "metadata": {},
   "source": [
    "From the above graph we can infer that the customers who have not been contacted earlier have high conversion rate and after the customers contacted more than 8 times have not shown interest so its better to not contact customers more than 8 times. "
   ]
  },
  {
   "cell_type": "code",
   "execution_count": 77,
   "id": "79721add",
   "metadata": {},
   "outputs": [
    {
     "data": {
      "text/html": [
       "<div>\n",
       "<style scoped>\n",
       "    .dataframe tbody tr th:only-of-type {\n",
       "        vertical-align: middle;\n",
       "    }\n",
       "\n",
       "    .dataframe tbody tr th {\n",
       "        vertical-align: top;\n",
       "    }\n",
       "\n",
       "    .dataframe thead th {\n",
       "        text-align: right;\n",
       "    }\n",
       "</style>\n",
       "<table border=\"1\" class=\"dataframe\">\n",
       "  <thead>\n",
       "    <tr style=\"text-align: right;\">\n",
       "      <th></th>\n",
       "      <th>Month_name</th>\n",
       "      <th>Subscription</th>\n",
       "      <th>proportion</th>\n",
       "    </tr>\n",
       "  </thead>\n",
       "  <tbody>\n",
       "    <tr>\n",
       "      <th>1</th>\n",
       "      <td>April</td>\n",
       "      <td>1</td>\n",
       "      <td>20.0</td>\n",
       "    </tr>\n",
       "    <tr>\n",
       "      <th>3</th>\n",
       "      <td>August</td>\n",
       "      <td>1</td>\n",
       "      <td>11.0</td>\n",
       "    </tr>\n",
       "    <tr>\n",
       "      <th>5</th>\n",
       "      <td>December</td>\n",
       "      <td>1</td>\n",
       "      <td>47.0</td>\n",
       "    </tr>\n",
       "    <tr>\n",
       "      <th>7</th>\n",
       "      <td>February</td>\n",
       "      <td>1</td>\n",
       "      <td>17.0</td>\n",
       "    </tr>\n",
       "    <tr>\n",
       "      <th>9</th>\n",
       "      <td>January</td>\n",
       "      <td>1</td>\n",
       "      <td>10.0</td>\n",
       "    </tr>\n",
       "    <tr>\n",
       "      <th>11</th>\n",
       "      <td>July</td>\n",
       "      <td>1</td>\n",
       "      <td>9.0</td>\n",
       "    </tr>\n",
       "    <tr>\n",
       "      <th>13</th>\n",
       "      <td>June</td>\n",
       "      <td>1</td>\n",
       "      <td>10.0</td>\n",
       "    </tr>\n",
       "    <tr>\n",
       "      <th>14</th>\n",
       "      <td>March</td>\n",
       "      <td>1</td>\n",
       "      <td>52.0</td>\n",
       "    </tr>\n",
       "    <tr>\n",
       "      <th>17</th>\n",
       "      <td>May</td>\n",
       "      <td>1</td>\n",
       "      <td>7.0</td>\n",
       "    </tr>\n",
       "    <tr>\n",
       "      <th>19</th>\n",
       "      <td>November</td>\n",
       "      <td>1</td>\n",
       "      <td>9.0</td>\n",
       "    </tr>\n",
       "    <tr>\n",
       "      <th>21</th>\n",
       "      <td>October</td>\n",
       "      <td>1</td>\n",
       "      <td>43.0</td>\n",
       "    </tr>\n",
       "    <tr>\n",
       "      <th>23</th>\n",
       "      <td>September</td>\n",
       "      <td>1</td>\n",
       "      <td>46.0</td>\n",
       "    </tr>\n",
       "  </tbody>\n",
       "</table>\n",
       "</div>"
      ],
      "text/plain": [
       "   Month_name Subscription  proportion\n",
       "1       April            1        20.0\n",
       "3      August            1        11.0\n",
       "5    December            1        47.0\n",
       "7    February            1        17.0\n",
       "9     January            1        10.0\n",
       "11       July            1         9.0\n",
       "13       June            1        10.0\n",
       "14      March            1        52.0\n",
       "17        May            1         7.0\n",
       "19   November            1         9.0\n",
       "21    October            1        43.0\n",
       "23  September            1        46.0"
      ]
     },
     "execution_count": 77,
     "metadata": {},
     "output_type": "execute_result"
    }
   ],
   "source": [
    "month_conversion=df.groupby(['Month_name'])['Subscription'].value_counts(normalize=True)*100\n",
    "mx=month_conversion.round(0)\n",
    "mx=mx.reset_index()\n",
    "mx=mx[mx['Subscription']=='1']\n",
    "mx"
   ]
  },
  {
   "cell_type": "code",
   "execution_count": 78,
   "id": "3a939646",
   "metadata": {},
   "outputs": [
    {
     "data": {
      "image/png": "[encoded data removed]",
      "text/plain": [
       "<Figure size 2000x500 with 1 Axes>"
      ]
     },
     "metadata": {},
     "output_type": "display_data"
    }
   ],
   "source": [
    "my = sns.barplot(x='Month_name',y='proportion',data=mx)\n",
    "plt.title('%conversion by Month')\n",
    "for bars in my.containers:\n",
    "    my.bar_label(bars)\n",
    "plt.show()"
   ]
  },
  {
   "cell_type": "markdown",
   "id": "f9d7d710",
   "metadata": {},
   "source": [
    "From the above graph we can infer that most of the customers contacted in march have high conversion rate. "
   ]
  },
  {
   "cell_type": "markdown",
   "id": "75e40d73",
   "metadata": {},
   "source": [
    "Conclusion:\n",
    "1. Customers in the age group 23-60 who are either single or divorced and involved in blue-collor or management jobs should be targeted by the bank.\n",
    "2. Customers should be contacted more on weekends and try to contact more number of customers in march when the financial period ends.\n",
    "3. customers who have been engaged in any other services of the bank should be targeted and the customers should not be contacted more than 8 times."
   ]
  },
  {
   "cell_type": "code",
   "execution_count": null,
   "id": "8404e720",
   "metadata": {},
   "outputs": [],
   "source": []
  }
 ],
 "metadata": {
  "kernelspec": {
   "display_name": "Python 3 (ipykernel)",
   "language": "python",
   "name": "python3"
  },
  "language_info": {
   "codemirror_mode": {
    "name": "ipython",
    "version": 3
   },
   "file_extension": ".py",
   "mimetype": "text/x-python",
   "name": "python",
   "nbconvert_exporter": "python",
   "pygments_lexer": "ipython3",
   "version": "3.11.3"
  }
 },
 "nbformat": 4,
 "nbformat_minor": 5
}
